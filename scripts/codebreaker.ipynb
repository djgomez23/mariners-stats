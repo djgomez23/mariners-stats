{
 "cells": [
  {
   "cell_type": "code",
   "execution_count": null,
   "id": "34fbac2e",
   "metadata": {},
   "outputs": [],
   "source": [
    "import pandas as pd"
   ]
  },
  {
   "cell_type": "code",
   "execution_count": null,
   "id": "1f1de3cb",
   "metadata": {},
   "outputs": [],
   "source": [
    "# empty dataframe to store signs and pitch results for given session\n",
    "# might not use risp\n",
    "signs = pd.DataFrame(columns=[\"pitch_count\", \"runners_on_base\", \"runner_on_second\", \"risp\", \"inning\", \"sign_seq\", \"prediction\", \"result\"])"
   ]
  },
  {
   "cell_type": "code",
   "execution_count": null,
   "id": "f46d6eca",
   "metadata": {},
   "outputs": [],
   "source": [
    "# entropy (if memory serves) will be used to determine what attributes will serve as each level of the decision tree\n",
    "# not sure how to do this effectively in real time with new data added each time or how to determine when the algorithm has enough information\n",
    "# to come to a conclusion\n",
    "# could be that we let the algorithm make a prediction then inform it if it is correct.\n",
    "# either way, the new data should be added to the training dataset to ensure that all future predictions are accurate\n",
    "# no way to account for when the the sign system in changed at the moment except to perhaps tell the algorithm to clear its cache\n",
    "# after it meets some criteria"
   ]
  }
 ],
 "metadata": {
  "language_info": {
   "name": "python"
  }
 },
 "nbformat": 4,
 "nbformat_minor": 5
}
